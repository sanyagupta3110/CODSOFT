{
 "cells": [
  {
   "cell_type": "code",
   "execution_count": 1,
   "id": "2eefc215",
   "metadata": {},
   "outputs": [],
   "source": [
    "# calculator\n"
   ]
  },
  {
   "cell_type": "code",
   "execution_count": 2,
   "id": "ed802d79",
   "metadata": {},
   "outputs": [
    {
     "name": "stdout",
     "output_type": "stream",
     "text": [
      "enter first number :8\n",
      "enter operator ( +,-,*,/,%-\n",
      "enter second number :6\n",
      "2\n"
     ]
    }
   ],
   "source": [
    "first = input(\"enter first number :\")\n",
    "operator = input(\"enter operator ( +,-,*,/,%\")\n",
    "second = input(\"enter second number :\")\n",
    "first = int(first)\n",
    "second = int(second)\n",
    "\n",
    "\n",
    "if operator == \"+\":\n",
    "    print(first + second)\n",
    "\n",
    "elif operator == \"-\":\n",
    "    print(first - second)\n",
    "\n",
    "elif operator == \"*\":\n",
    "    print(first * second)\n",
    "\n",
    "elif operator == \"/\":\n",
    "    print(first / second)\n",
    "elif operator == \"%\":\n",
    "    print(first % second)\n",
    "\n",
    "\n"
   ]
  },
  {
   "cell_type": "code",
   "execution_count": null,
   "id": "ca4be4c1",
   "metadata": {},
   "outputs": [],
   "source": []
  }
 ],
 "metadata": {
  "kernelspec": {
   "display_name": "Python 3 (ipykernel)",
   "language": "python",
   "name": "python3"
  },
  "language_info": {
   "codemirror_mode": {
    "name": "ipython",
    "version": 3
   },
   "file_extension": ".py",
   "mimetype": "text/x-python",
   "name": "python",
   "nbconvert_exporter": "python",
   "pygments_lexer": "ipython3",
   "version": "3.11.5"
  }
 },
 "nbformat": 4,
 "nbformat_minor": 5
}
